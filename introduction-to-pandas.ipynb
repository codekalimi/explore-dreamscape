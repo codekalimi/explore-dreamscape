{
 "cells": [
  {
   "cell_type": "code",
   "execution_count": 1,
   "metadata": {
    "collapsed": true
   },
   "outputs": [],
   "source": [
    "import pandas as pd"
   ]
  },
  {
   "cell_type": "code",
   "execution_count": 2,
   "outputs": [
    {
     "data": {
      "text/plain": "0          Cricket\n1         Football\n2    Entertainment\ndtype: object"
     },
     "execution_count": 2,
     "metadata": {},
     "output_type": "execute_result"
    }
   ],
   "source": [
    "series = pd.Series([\"Cricket\", \"Football\", \"Entertainment\"])\n",
    "series"
   ],
   "metadata": {
    "collapsed": false
   }
  },
  {
   "cell_type": "code",
   "execution_count": 3,
   "outputs": [
    {
     "data": {
      "text/plain": "           Datas\n0        Cricket\n1       Football\n2  Entertainment",
      "text/html": "<div>\n<style scoped>\n    .dataframe tbody tr th:only-of-type {\n        vertical-align: middle;\n    }\n\n    .dataframe tbody tr th {\n        vertical-align: top;\n    }\n\n    .dataframe thead th {\n        text-align: right;\n    }\n</style>\n<table border=\"1\" class=\"dataframe\">\n  <thead>\n    <tr style=\"text-align: right;\">\n      <th></th>\n      <th>Datas</th>\n    </tr>\n  </thead>\n  <tbody>\n    <tr>\n      <th>0</th>\n      <td>Cricket</td>\n    </tr>\n    <tr>\n      <th>1</th>\n      <td>Football</td>\n    </tr>\n    <tr>\n      <th>2</th>\n      <td>Entertainment</td>\n    </tr>\n  </tbody>\n</table>\n</div>"
     },
     "execution_count": 3,
     "metadata": {},
     "output_type": "execute_result"
    }
   ],
   "source": [
    "dataframe = pd.DataFrame({\"Datas\": series})\n",
    "dataframe"
   ],
   "metadata": {
    "collapsed": false
   }
  },
  {
   "cell_type": "code",
   "execution_count": 4,
   "outputs": [],
   "source": [
    "car_sales = pd.read_csv(\"car-sales.csv\")"
   ],
   "metadata": {
    "collapsed": false
   }
  },
  {
   "cell_type": "code",
   "execution_count": 5,
   "outputs": [
    {
     "data": {
      "text/plain": "     Make Colour  Odometer (KM)  Doors       Price\n0  Toyota  White         150043      4   $4,000.00\n1   Honda    Red          87899      4   $5,000.00\n2  Toyota   Blue          32549      3   $7,000.00\n3     BMW  Black          11179      5  $22,000.00\n4  Nissan  White         213095      4   $3,500.00\n5  Toyota  Green          99213      4   $4,500.00\n6   Honda   Blue          45698      4   $7,500.00\n7   Honda   Blue          54738      4   $7,000.00\n8  Toyota  White          60000      4   $6,250.00\n9  Nissan  White          31600      4   $9,700.00",
      "text/html": "<div>\n<style scoped>\n    .dataframe tbody tr th:only-of-type {\n        vertical-align: middle;\n    }\n\n    .dataframe tbody tr th {\n        vertical-align: top;\n    }\n\n    .dataframe thead th {\n        text-align: right;\n    }\n</style>\n<table border=\"1\" class=\"dataframe\">\n  <thead>\n    <tr style=\"text-align: right;\">\n      <th></th>\n      <th>Make</th>\n      <th>Colour</th>\n      <th>Odometer (KM)</th>\n      <th>Doors</th>\n      <th>Price</th>\n    </tr>\n  </thead>\n  <tbody>\n    <tr>\n      <th>0</th>\n      <td>Toyota</td>\n      <td>White</td>\n      <td>150043</td>\n      <td>4</td>\n      <td>$4,000.00</td>\n    </tr>\n    <tr>\n      <th>1</th>\n      <td>Honda</td>\n      <td>Red</td>\n      <td>87899</td>\n      <td>4</td>\n      <td>$5,000.00</td>\n    </tr>\n    <tr>\n      <th>2</th>\n      <td>Toyota</td>\n      <td>Blue</td>\n      <td>32549</td>\n      <td>3</td>\n      <td>$7,000.00</td>\n    </tr>\n    <tr>\n      <th>3</th>\n      <td>BMW</td>\n      <td>Black</td>\n      <td>11179</td>\n      <td>5</td>\n      <td>$22,000.00</td>\n    </tr>\n    <tr>\n      <th>4</th>\n      <td>Nissan</td>\n      <td>White</td>\n      <td>213095</td>\n      <td>4</td>\n      <td>$3,500.00</td>\n    </tr>\n    <tr>\n      <th>5</th>\n      <td>Toyota</td>\n      <td>Green</td>\n      <td>99213</td>\n      <td>4</td>\n      <td>$4,500.00</td>\n    </tr>\n    <tr>\n      <th>6</th>\n      <td>Honda</td>\n      <td>Blue</td>\n      <td>45698</td>\n      <td>4</td>\n      <td>$7,500.00</td>\n    </tr>\n    <tr>\n      <th>7</th>\n      <td>Honda</td>\n      <td>Blue</td>\n      <td>54738</td>\n      <td>4</td>\n      <td>$7,000.00</td>\n    </tr>\n    <tr>\n      <th>8</th>\n      <td>Toyota</td>\n      <td>White</td>\n      <td>60000</td>\n      <td>4</td>\n      <td>$6,250.00</td>\n    </tr>\n    <tr>\n      <th>9</th>\n      <td>Nissan</td>\n      <td>White</td>\n      <td>31600</td>\n      <td>4</td>\n      <td>$9,700.00</td>\n    </tr>\n  </tbody>\n</table>\n</div>"
     },
     "execution_count": 5,
     "metadata": {},
     "output_type": "execute_result"
    }
   ],
   "source": [
    "car_sales"
   ],
   "metadata": {
    "collapsed": false
   }
  },
  {
   "cell_type": "code",
   "execution_count": 10,
   "outputs": [],
   "source": [
    "exported_car_sales = car_sales.to_csv(\"exported-car-sales\", index=False)"
   ],
   "metadata": {
    "collapsed": false
   }
  },
  {
   "cell_type": "code",
   "execution_count": 7,
   "outputs": [],
   "source": [
    "exported_car_sales"
   ],
   "metadata": {
    "collapsed": false
   }
  },
  {
   "cell_type": "code",
   "execution_count": 11,
   "outputs": [],
   "source": [
    "exported_car_sales = pd.read_csv(\"exported-car-sales\")"
   ],
   "metadata": {
    "collapsed": false
   }
  },
  {
   "cell_type": "code",
   "execution_count": 12,
   "outputs": [
    {
     "data": {
      "text/plain": "     Make Colour  Odometer (KM)  Doors       Price\n0  Toyota  White         150043      4   $4,000.00\n1   Honda    Red          87899      4   $5,000.00\n2  Toyota   Blue          32549      3   $7,000.00\n3     BMW  Black          11179      5  $22,000.00\n4  Nissan  White         213095      4   $3,500.00\n5  Toyota  Green          99213      4   $4,500.00\n6   Honda   Blue          45698      4   $7,500.00\n7   Honda   Blue          54738      4   $7,000.00\n8  Toyota  White          60000      4   $6,250.00\n9  Nissan  White          31600      4   $9,700.00",
      "text/html": "<div>\n<style scoped>\n    .dataframe tbody tr th:only-of-type {\n        vertical-align: middle;\n    }\n\n    .dataframe tbody tr th {\n        vertical-align: top;\n    }\n\n    .dataframe thead th {\n        text-align: right;\n    }\n</style>\n<table border=\"1\" class=\"dataframe\">\n  <thead>\n    <tr style=\"text-align: right;\">\n      <th></th>\n      <th>Make</th>\n      <th>Colour</th>\n      <th>Odometer (KM)</th>\n      <th>Doors</th>\n      <th>Price</th>\n    </tr>\n  </thead>\n  <tbody>\n    <tr>\n      <th>0</th>\n      <td>Toyota</td>\n      <td>White</td>\n      <td>150043</td>\n      <td>4</td>\n      <td>$4,000.00</td>\n    </tr>\n    <tr>\n      <th>1</th>\n      <td>Honda</td>\n      <td>Red</td>\n      <td>87899</td>\n      <td>4</td>\n      <td>$5,000.00</td>\n    </tr>\n    <tr>\n      <th>2</th>\n      <td>Toyota</td>\n      <td>Blue</td>\n      <td>32549</td>\n      <td>3</td>\n      <td>$7,000.00</td>\n    </tr>\n    <tr>\n      <th>3</th>\n      <td>BMW</td>\n      <td>Black</td>\n      <td>11179</td>\n      <td>5</td>\n      <td>$22,000.00</td>\n    </tr>\n    <tr>\n      <th>4</th>\n      <td>Nissan</td>\n      <td>White</td>\n      <td>213095</td>\n      <td>4</td>\n      <td>$3,500.00</td>\n    </tr>\n    <tr>\n      <th>5</th>\n      <td>Toyota</td>\n      <td>Green</td>\n      <td>99213</td>\n      <td>4</td>\n      <td>$4,500.00</td>\n    </tr>\n    <tr>\n      <th>6</th>\n      <td>Honda</td>\n      <td>Blue</td>\n      <td>45698</td>\n      <td>4</td>\n      <td>$7,500.00</td>\n    </tr>\n    <tr>\n      <th>7</th>\n      <td>Honda</td>\n      <td>Blue</td>\n      <td>54738</td>\n      <td>4</td>\n      <td>$7,000.00</td>\n    </tr>\n    <tr>\n      <th>8</th>\n      <td>Toyota</td>\n      <td>White</td>\n      <td>60000</td>\n      <td>4</td>\n      <td>$6,250.00</td>\n    </tr>\n    <tr>\n      <th>9</th>\n      <td>Nissan</td>\n      <td>White</td>\n      <td>31600</td>\n      <td>4</td>\n      <td>$9,700.00</td>\n    </tr>\n  </tbody>\n</table>\n</div>"
     },
     "execution_count": 12,
     "metadata": {},
     "output_type": "execute_result"
    }
   ],
   "source": [
    "exported_car_sales"
   ],
   "metadata": {
    "collapsed": false
   }
  },
  {
   "cell_type": "markdown",
   "source": [
    "## Describe Data"
   ],
   "metadata": {
    "collapsed": false
   }
  },
  {
   "cell_type": "code",
   "execution_count": 13,
   "outputs": [
    {
     "data": {
      "text/plain": "Make             object\nColour           object\nOdometer (KM)     int64\nDoors             int64\nPrice            object\ndtype: object"
     },
     "execution_count": 13,
     "metadata": {},
     "output_type": "execute_result"
    }
   ],
   "source": [
    "car_sales.dtypes"
   ],
   "metadata": {
    "collapsed": false
   }
  },
  {
   "cell_type": "code",
   "execution_count": 15,
   "outputs": [
    {
     "name": "stdout",
     "output_type": "stream",
     "text": [
      "<class 'pandas.core.frame.DataFrame'>\n",
      "RangeIndex: 10 entries, 0 to 9\n",
      "Data columns (total 5 columns):\n",
      " #   Column         Non-Null Count  Dtype \n",
      "---  ------         --------------  ----- \n",
      " 0   Make           10 non-null     object\n",
      " 1   Colour         10 non-null     object\n",
      " 2   Odometer (KM)  10 non-null     int64 \n",
      " 3   Doors          10 non-null     int64 \n",
      " 4   Price          10 non-null     object\n",
      "dtypes: int64(2), object(3)\n",
      "memory usage: 528.0+ bytes\n"
     ]
    }
   ],
   "source": [
    "car_sales.info()"
   ],
   "metadata": {
    "collapsed": false
   }
  },
  {
   "cell_type": "code",
   "execution_count": 18,
   "outputs": [],
   "source": [
    "col_infos = car_sales.columns"
   ],
   "metadata": {
    "collapsed": false
   }
  },
  {
   "cell_type": "code",
   "execution_count": 19,
   "outputs": [
    {
     "data": {
      "text/plain": "Index(['Make', 'Colour', 'Odometer (KM)', 'Doors', 'Price'], dtype='object')"
     },
     "execution_count": 19,
     "metadata": {},
     "output_type": "execute_result"
    }
   ],
   "source": [
    "col_infos"
   ],
   "metadata": {
    "collapsed": false
   }
  },
  {
   "cell_type": "code",
   "execution_count": 21,
   "outputs": [
    {
     "data": {
      "text/plain": "Index(['Make', 'Colour', 'Odometer (KM)', 'Doors', 'Price'], dtype='object')"
     },
     "execution_count": 21,
     "metadata": {},
     "output_type": "execute_result"
    }
   ],
   "source": [
    "car_sales.columns"
   ],
   "metadata": {
    "collapsed": false
   }
  },
  {
   "cell_type": "code",
   "execution_count": 22,
   "outputs": [
    {
     "data": {
      "text/plain": "10"
     },
     "execution_count": 22,
     "metadata": {},
     "output_type": "execute_result"
    }
   ],
   "source": [
    "len(car_sales)"
   ],
   "metadata": {
    "collapsed": false
   }
  },
  {
   "cell_type": "code",
   "execution_count": null,
   "outputs": [],
   "source": [],
   "metadata": {
    "collapsed": false
   }
  }
 ],
 "metadata": {
  "kernelspec": {
   "display_name": "Python 3",
   "language": "python",
   "name": "python3"
  },
  "language_info": {
   "codemirror_mode": {
    "name": "ipython",
    "version": 2
   },
   "file_extension": ".py",
   "mimetype": "text/x-python",
   "name": "python",
   "nbconvert_exporter": "python",
   "pygments_lexer": "ipython2",
   "version": "2.7.6"
  }
 },
 "nbformat": 4,
 "nbformat_minor": 0
}
