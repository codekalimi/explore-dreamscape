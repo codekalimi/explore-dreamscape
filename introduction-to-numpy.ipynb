{
 "cells": [
  {
   "cell_type": "code",
   "execution_count": 1,
   "metadata": {
    "collapsed": true
   },
   "outputs": [],
   "source": [
    "import numpy as np"
   ]
  },
  {
   "cell_type": "markdown",
   "source": [
    "## Datatypes and Attributes"
   ],
   "metadata": {
    "collapsed": false
   }
  },
  {
   "cell_type": "code",
   "execution_count": 3,
   "outputs": [
    {
     "data": {
      "text/plain": "array([[1., 1., 1., 1., 1.],\n       [1., 1., 1., 1., 1.],\n       [1., 1., 1., 1., 1.]])"
     },
     "execution_count": 3,
     "metadata": {},
     "output_type": "execute_result"
    }
   ],
   "source": [
    "ones = np.ones((3,5))\n",
    "ones"
   ],
   "metadata": {
    "collapsed": false
   }
  },
  {
   "cell_type": "code",
   "execution_count": 4,
   "outputs": [],
   "source": [
    "zeros = np.zeros((4,4))"
   ],
   "metadata": {
    "collapsed": false
   }
  },
  {
   "cell_type": "code",
   "execution_count": 5,
   "outputs": [
    {
     "data": {
      "text/plain": "array([[0., 0., 0., 0.],\n       [0., 0., 0., 0.],\n       [0., 0., 0., 0.],\n       [0., 0., 0., 0.]])"
     },
     "execution_count": 5,
     "metadata": {},
     "output_type": "execute_result"
    }
   ],
   "source": [
    "zeros"
   ],
   "metadata": {
    "collapsed": false
   }
  },
  {
   "cell_type": "code",
   "execution_count": 7,
   "outputs": [
    {
     "data": {
      "text/plain": "2"
     },
     "execution_count": 7,
     "metadata": {},
     "output_type": "execute_result"
    }
   ],
   "source": [
    "np.ndim(zeros)"
   ],
   "metadata": {
    "collapsed": false
   }
  },
  {
   "cell_type": "code",
   "execution_count": 8,
   "outputs": [
    {
     "data": {
      "text/plain": "numpy.dtype"
     },
     "execution_count": 8,
     "metadata": {},
     "output_type": "execute_result"
    }
   ],
   "source": [
    "np.dtype"
   ],
   "metadata": {
    "collapsed": false
   }
  },
  {
   "cell_type": "code",
   "execution_count": 9,
   "outputs": [
    {
     "data": {
      "text/plain": "dtype('float64')"
     },
     "execution_count": 9,
     "metadata": {},
     "output_type": "execute_result"
    }
   ],
   "source": [
    "ones.dtype"
   ],
   "metadata": {
    "collapsed": false
   }
  },
  {
   "cell_type": "code",
   "execution_count": 12,
   "outputs": [
    {
     "data": {
      "text/plain": "array([0, 1, 2, 3, 4, 5, 6, 7, 8, 9])"
     },
     "execution_count": 12,
     "metadata": {},
     "output_type": "execute_result"
    }
   ],
   "source": [
    "range_arrays = np.arange(0, 10)\n",
    "range_arrays"
   ],
   "metadata": {
    "collapsed": false
   }
  },
  {
   "cell_type": "code",
   "execution_count": 13,
   "outputs": [],
   "source": [
    "random_int = np.random.randint(0, 10, size=(4,4))"
   ],
   "metadata": {
    "collapsed": false
   }
  },
  {
   "cell_type": "code",
   "execution_count": 14,
   "outputs": [
    {
     "data": {
      "text/plain": "array([[1, 3, 5, 3],\n       [1, 6, 1, 3],\n       [5, 0, 0, 7],\n       [6, 9, 5, 7]])"
     },
     "execution_count": 14,
     "metadata": {},
     "output_type": "execute_result"
    }
   ],
   "source": [
    "random_int"
   ],
   "metadata": {
    "collapsed": false
   }
  },
  {
   "cell_type": "code",
   "execution_count": 15,
   "outputs": [
    {
     "data": {
      "text/plain": "array([0.63899771, 0.26868568, 0.82663304, 0.35405104])"
     },
     "execution_count": 15,
     "metadata": {},
     "output_type": "execute_result"
    }
   ],
   "source": [
    "np.random.random(4)"
   ],
   "metadata": {
    "collapsed": false
   }
  },
  {
   "cell_type": "code",
   "execution_count": 20,
   "outputs": [],
   "source": [
    "arr_4x4 = np.random.randint(10, 20, size=(4,4,4,4))"
   ],
   "metadata": {
    "collapsed": false
   }
  },
  {
   "cell_type": "code",
   "execution_count": 21,
   "outputs": [
    {
     "data": {
      "text/plain": "array([[[[16, 10, 11, 16],\n         [14, 17, 14, 12],\n         [17, 16, 19, 11],\n         [15, 13, 10, 16]],\n\n        [[17, 18, 11, 16],\n         [15, 10, 19, 10],\n         [17, 11, 17, 14],\n         [18, 11, 15, 15]],\n\n        [[14, 10, 11, 16],\n         [13, 14, 17, 11],\n         [16, 17, 12, 19],\n         [13, 10, 18, 14]],\n\n        [[17, 13, 12, 12],\n         [13, 16, 10, 15],\n         [11, 12, 18, 14],\n         [13, 16, 12, 11]]],\n\n\n       [[[17, 14, 18, 16],\n         [17, 15, 12, 12],\n         [11, 15, 10, 16],\n         [17, 13, 19, 13]],\n\n        [[13, 18, 11, 16],\n         [11, 10, 19, 15],\n         [14, 13, 18, 14],\n         [10, 11, 19, 17]],\n\n        [[10, 19, 18, 13],\n         [16, 10, 18, 14],\n         [16, 19, 15, 12],\n         [16, 19, 11, 11]],\n\n        [[12, 12, 10, 15],\n         [12, 11, 15, 19],\n         [13, 15, 12, 13],\n         [13, 12, 10, 16]]],\n\n\n       [[[16, 14, 15, 16],\n         [14, 12, 19, 17],\n         [19, 11, 10, 13],\n         [11, 13, 12, 11]],\n\n        [[16, 12, 16, 12],\n         [10, 17, 15, 14],\n         [14, 11, 15, 14],\n         [18, 10, 14, 14]],\n\n        [[11, 16, 17, 14],\n         [12, 17, 16, 14],\n         [13, 17, 11, 19],\n         [19, 15, 17, 10]],\n\n        [[14, 10, 16, 15],\n         [13, 17, 19, 12],\n         [11, 10, 19, 18],\n         [15, 16, 14, 19]]],\n\n\n       [[[18, 18, 11, 19],\n         [19, 15, 17, 10],\n         [12, 13, 13, 18],\n         [11, 18, 19, 11]],\n\n        [[13, 11, 12, 19],\n         [17, 11, 11, 11],\n         [14, 10, 16, 18],\n         [17, 18, 14, 12]],\n\n        [[10, 10, 17, 13],\n         [13, 16, 12, 17],\n         [10, 13, 17, 12],\n         [15, 15, 18, 12]],\n\n        [[10, 16, 12, 14],\n         [11, 11, 19, 17],\n         [12, 13, 16, 13],\n         [19, 15, 11, 10]]]])"
     },
     "execution_count": 21,
     "metadata": {},
     "output_type": "execute_result"
    }
   ],
   "source": [
    "arr_4x4"
   ],
   "metadata": {
    "collapsed": false
   }
  },
  {
   "cell_type": "code",
   "execution_count": null,
   "outputs": [],
   "source": [],
   "metadata": {
    "collapsed": false
   }
  }
 ],
 "metadata": {
  "kernelspec": {
   "display_name": "Python 3",
   "language": "python",
   "name": "python3"
  },
  "language_info": {
   "codemirror_mode": {
    "name": "ipython",
    "version": 2
   },
   "file_extension": ".py",
   "mimetype": "text/x-python",
   "name": "python",
   "nbconvert_exporter": "python",
   "pygments_lexer": "ipython2",
   "version": "2.7.6"
  }
 },
 "nbformat": 4,
 "nbformat_minor": 0
}
